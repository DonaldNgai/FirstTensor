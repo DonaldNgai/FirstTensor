{
 "cells": [
  {
   "cell_type": "code",
   "execution_count": 1,
   "id": "4eacd4f6-bac3-4343-8f46-9b48a4143c6f",
   "metadata": {},
   "outputs": [
    {
     "name": "stderr",
     "output_type": "stream",
     "text": [
      "2023-08-14 12:02:55.699863: I tensorflow/core/util/port.cc:110] oneDNN custom operations are on. You may see slightly different numerical results due to floating-point round-off errors from different computation orders. To turn them off, set the environment variable `TF_ENABLE_ONEDNN_OPTS=0`.\n",
      "2023-08-14 12:02:55.701168: I tensorflow/tsl/cuda/cudart_stub.cc:28] Could not find cuda drivers on your machine, GPU will not be used.\n",
      "2023-08-14 12:02:55.727613: I tensorflow/tsl/cuda/cudart_stub.cc:28] Could not find cuda drivers on your machine, GPU will not be used.\n",
      "2023-08-14 12:02:55.728181: I tensorflow/core/platform/cpu_feature_guard.cc:182] This TensorFlow binary is optimized to use available CPU instructions in performance-critical operations.\n",
      "To enable the following instructions: AVX2 AVX512F AVX512_VNNI FMA, in other operations, rebuild TensorFlow with the appropriate compiler flags.\n",
      "2023-08-14 12:02:56.186762: W tensorflow/compiler/tf2tensorrt/utils/py_utils.cc:38] TF-TRT Warning: Could not find TensorRT\n"
     ]
    }
   ],
   "source": [
    "import random\n",
    "import pickle\n",
    "import os\n",
    "import csv\n",
    "\n",
    "import numpy as np\n",
    "import pandas as pd\n",
    "from nltk.tokenize import RegexpTokenizer\n",
    "\n",
    "from tensorflow.keras.models import Sequential\n",
    "from tensorflow.keras.layers import LSTM, Dense, Activation\n",
    "from tensorflow.keras.optimizers import RMSprop\n",
    "from tensorflow.keras.saving import load_model"
   ]
  },
  {
   "cell_type": "code",
   "execution_count": 2,
   "id": "e1dbe1d0-c262-49ae-9979-728ddccf297c",
   "metadata": {},
   "outputs": [],
   "source": [
    "# Global variables\n",
    "inputSentenceLength = 10\n",
    "trainingSetSize = 10000"
   ]
  },
  {
   "cell_type": "code",
   "execution_count": 3,
   "id": "e07b8ac5-b4f2-4279-88f3-ba49cd36526e",
   "metadata": {},
   "outputs": [],
   "source": [
    "path = os.path.join(os.getcwd(), \"TrainingData/eng_sentences.tsv\")\n",
    "text_raw = pd.read_csv(path,sep='\\t',header=None, quoting=csv.QUOTE_NONE)\n",
    "joined_text = \" \".join(text_raw[2])"
   ]
  },
  {
   "cell_type": "code",
   "execution_count": 4,
   "id": "7d0be2f2-f765-4246-9aa7-2aa8c13cee1e",
   "metadata": {},
   "outputs": [],
   "source": [
    "partial_text = joined_text[:trainingSetSize]\n",
    "tokenizer = RegexpTokenizer(r'\\w+|\\$[\\d\\.]+|\\S+')\n",
    "allWords = tokenizer.tokenize(partial_text)# purposely not doing lowercase\n",
    "uniqueWords = np.unique(allWords)\n",
    "# # create a dictionary where token is mapped to idx\n",
    "# # so this creates a dictionary from the enumeration of uniqueWords\n",
    "uniqueWordsIndex = {token: idx for idx, token in enumerate(uniqueWords)}"
   ]
  },
  {
   "cell_type": "code",
   "execution_count": 5,
   "id": "e845f1ff-306b-46f0-9207-3c58f87857e5",
   "metadata": {},
   "outputs": [],
   "source": [
    "# Training Data Population. \n",
    "\n",
    "input_sentences = []\n",
    "next_words = []\n",
    "\n",
    "# Put every possible training sentence into a list\n",
    "for i in range(len(allWords) - inputSentenceLength):\n",
    "    input_sentences.append(allWords[i:i+inputSentenceLength])\n",
    "    next_words.append(allWords[i+inputSentenceLength])\n",
    "\n",
    "# I want to map out in a matrix, which word for every possible spot is being used\n",
    "modelInput = np.zeros(shape=(len(input_sentences), inputSentenceLength, len(uniqueWords)), dtype=bool)\n",
    "# I also want to map out for each possible next word, which word is activated\n",
    "modelOutput = np.zeros(shape=(len(next_words), len(uniqueWords)), dtype=bool)\n",
    "\n",
    "for i, sentence in enumerate(input_sentences):\n",
    "    for j, word in enumerate(sentence):\n",
    "        modelInput[i,j,uniqueWordsIndex[word]] = 1\n",
    "    modelOutput[i,uniqueWordsIndex[next_words[i]]] = 1\n",
    "                        \n",
    "#TODO change this to predict between questions and answers later"
   ]
  },
  {
   "cell_type": "code",
   "execution_count": 6,
   "id": "c598ed75-9964-47bd-b429-20d3433575de",
   "metadata": {},
   "outputs": [],
   "source": [
    "# Model creation\n",
    "model = Sequential()\n",
    "model.add(LSTM(128,input_shape=(inputSentenceLength, len(uniqueWords)), return_sequences=True))\n",
    "model.add(LSTM(128))\n",
    "model.add(Dense(len(uniqueWords)))\n",
    "model.add(Activation(\"softmax\"))"
   ]
  },
  {
   "cell_type": "code",
   "execution_count": 7,
   "id": "c76102e3-087f-4690-9102-4ea63e95568c",
   "metadata": {},
   "outputs": [],
   "source": [
    "# Model Variables\n",
    "modelBatchSize = 128\n",
    "modelEpochs = 10"
   ]
  },
  {
   "cell_type": "code",
   "execution_count": 8,
   "id": "f0c8b128-d32e-47fe-abb1-b3b1aac3ec5e",
   "metadata": {},
   "outputs": [
    {
     "name": "stdout",
     "output_type": "stream",
     "text": [
      "Epoch 1/10\n",
      "19/19 [==============================] - 2s 24ms/step - loss: 5.8259 - accuracy: 0.0668\n",
      "Epoch 2/10\n",
      "19/19 [==============================] - 0s 24ms/step - loss: 5.5173 - accuracy: 0.0808\n",
      "Epoch 3/10\n",
      "19/19 [==============================] - 0s 24ms/step - loss: 5.4830 - accuracy: 0.0812\n",
      "Epoch 4/10\n",
      "19/19 [==============================] - 0s 24ms/step - loss: 5.4648 - accuracy: 0.0838\n",
      "Epoch 5/10\n",
      "19/19 [==============================] - 0s 25ms/step - loss: 5.4116 - accuracy: 0.0825\n",
      "Epoch 6/10\n",
      "19/19 [==============================] - 0s 24ms/step - loss: 5.3408 - accuracy: 0.0880\n",
      "Epoch 7/10\n",
      "19/19 [==============================] - 0s 25ms/step - loss: 5.2267 - accuracy: 0.1008\n",
      "Epoch 8/10\n",
      "19/19 [==============================] - 0s 25ms/step - loss: 5.0351 - accuracy: 0.1293\n",
      "Epoch 9/10\n",
      "19/19 [==============================] - 0s 24ms/step - loss: 4.8072 - accuracy: 0.1539\n",
      "Epoch 10/10\n",
      "19/19 [==============================] - 0s 25ms/step - loss: 4.5585 - accuracy: 0.1709\n"
     ]
    },
    {
     "data": {
      "text/plain": [
       "<keras.src.callbacks.History at 0x7ff51c562fb0>"
      ]
     },
     "execution_count": 8,
     "metadata": {},
     "output_type": "execute_result"
    }
   ],
   "source": [
    "# Model execution\n",
    "model.compile(loss=\"categorical_crossentropy\", optimizer=RMSprop(learning_rate=0.01), metrics=[\"accuracy\"])\n",
    "model.fit(modelInput,modelOutput, batch_size=modelBatchSize, epochs=modelEpochs, shuffle=True)"
   ]
  },
  {
   "cell_type": "code",
   "execution_count": 9,
   "id": "df716902-483b-40ee-a2e3-02e9a1737e92",
   "metadata": {},
   "outputs": [],
   "source": [
    "model.save(\"mymodel.keras\")"
   ]
  },
  {
   "cell_type": "code",
   "execution_count": 10,
   "id": "6a8bf8ac-84c2-4c31-b348-38d17bb8de7b",
   "metadata": {},
   "outputs": [],
   "source": [
    "model = load_model(\"mymodel.keras\")"
   ]
  },
  {
   "cell_type": "code",
   "execution_count": 33,
   "id": "1717187b-7595-488f-ada9-001155db84b6",
   "metadata": {},
   "outputs": [],
   "source": [
    "def predict_next_word(input_text, n_best):\n",
    "    predictionInput = np.zeros(shape=(1,inputSentenceLength, len(uniqueWords)))\n",
    "    for i, word in enumerate(input_text.split()):\n",
    "        predictionInput[0,i,uniqueWordsIndex[word]] = 1\n",
    "\n",
    "    # So how this predicts is you have a bunch of matrices.\n",
    "    # Based on how the matrix looks, we want to predict and output\n",
    "\n",
    "    predictions = model.predict(predictionInput, verbose=0)[0]\n",
    "    return np.argpartition(predictions, n_best)[-n_best:]"
   ]
  },
  {
   "cell_type": "code",
   "execution_count": 36,
   "id": "d90a05af-f9c9-49d4-bcf2-218b59c4e8a6",
   "metadata": {},
   "outputs": [],
   "source": [
    "def generate_text(input_text, text_length, creativity=3):\n",
    "    word_sequence = tokenizer.tokenize(input_text)\n",
    "    current = 0\n",
    "    # The underscore just means we don't care about the variable\n",
    "    for _ in range(text_length):\n",
    "        sub_sequence = \" \".join(word_sequence[current:current+inputSentenceLength])\n",
    "        try:\n",
    "            next_word = uniqueWords[random.choice(predict_next_word(sub_sequence, creativity))]\n",
    "        except:\n",
    "            next_word = random.choice(uniqueWords)\n",
    "        word_sequence.append(next_word)\n",
    "        current += 1\n",
    "    return \" \".join(word_sequence)"
   ]
  },
  {
   "cell_type": "code",
   "execution_count": 37,
   "id": "7301c30d-7d39-4504-87e3-bb7e0dd3242e",
   "metadata": {},
   "outputs": [
    {
     "data": {
      "text/plain": [
       "'This is a \"A you your !\" ! you ! !\" !\" ! you ! \"I \"I !\" !\" ! your your you you \"A ! \"I \"I \"I \"A your you !\" \"A you ! \"I !\" ! !\" ! !\" your !\" your \"A ! you \"I ! your ! !\" you you !\" \"A !\" ! your your \"A your your you \"A ! you ! !\" !\" you your !\" you ! ! your you you you your you !\" \"A \"A ! ! ! ! !\" your \"A \"A \"A you ! your !\" you you your \"A'"
      ]
     },
     "execution_count": 37,
     "metadata": {},
     "output_type": "execute_result"
    }
   ],
   "source": [
    "# attempt = predict_next_word(\"This is a try\",5)\n",
    "# print ([uniqueWords[idx] for idx in attempt])\n",
    "generate_text(\"This is a\", 100, 5)\n"
   ]
  }
 ],
 "metadata": {
  "kernelspec": {
   "display_name": "Python 3 (ipykernel)",
   "language": "python",
   "name": "python3"
  },
  "language_info": {
   "codemirror_mode": {
    "name": "ipython",
    "version": 3
   },
   "file_extension": ".py",
   "mimetype": "text/x-python",
   "name": "python",
   "nbconvert_exporter": "python",
   "pygments_lexer": "ipython3",
   "version": "3.10.6"
  }
 },
 "nbformat": 4,
 "nbformat_minor": 5
}

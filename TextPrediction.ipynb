{
 "cells": [
  {
   "cell_type": "code",
   "execution_count": 38,
   "id": "4eacd4f6-bac3-4343-8f46-9b48a4143c6f",
   "metadata": {},
   "outputs": [],
   "source": [
    "import random\n",
    "import pickle\n",
    "import os\n",
    "import csv\n",
    "\n",
    "import numpy as np\n",
    "import pandas as pd\n",
    "from nltk.tokenize import RegexpTokenizer\n",
    "\n",
    "from tensorflow.keras.models import Sequential, load_model\n",
    "from tensorflow.keras.layers import LSTM, Dense, Activation\n",
    "from tensorflow.keras.optimizers import RMSprop"
   ]
  },
  {
   "cell_type": "code",
   "execution_count": 28,
   "id": "e1dbe1d0-c262-49ae-9979-728ddccf297c",
   "metadata": {},
   "outputs": [],
   "source": [
    "# Global variables\n",
    "trainingSetSize = 1000\n"
   ]
  },
  {
   "cell_type": "code",
   "execution_count": 39,
   "id": "e07b8ac5-b4f2-4279-88f3-ba49cd36526e",
   "metadata": {},
   "outputs": [],
   "source": [
    "path = os.path.join(os.getcwd(), \"TrainingData/eng_sentences.tsv\")\n",
    "text_raw = pd.read_csv(path,sep='\\t',quoting=csv.QUOTE_NONE)\n",
    "joined_text = \" \".join(text_raw)"
   ]
  },
  {
   "cell_type": "code",
   "execution_count": null,
   "id": "7d0be2f2-f765-4246-9aa7-2aa8c13cee1e",
   "metadata": {},
   "outputs": [],
   "source": [
    "partial_text = joined_text[:trainingSetSize]\n",
    "tokenizer = RegexpTokenizer(r\"/w+\")\n",
    "allWords = tokenizer.tokenize(partial_text)# purposely not doing lowercase\n",
    "uniqueWords = np.unique(allWords)\n",
    "# create a dictionary where token is mapped to idx\n",
    "# so this creates a dictionary from the enumeration of uniqueWords\n",
    "uniqueWordsIndex = {token: idx for idx, token in enumerate(uniqueWords)}"
   ]
  },
  {
   "cell_type": "code",
   "execution_count": null,
   "id": "df716902-483b-40ee-a2e3-02e9a1737e92",
   "metadata": {},
   "outputs": [],
   "source": [
    "uniqueWordsIndex"
   ]
  }
 ],
 "metadata": {
  "kernelspec": {
   "display_name": "Python 3 (ipykernel)",
   "language": "python",
   "name": "python3"
  },
  "language_info": {
   "codemirror_mode": {
    "name": "ipython",
    "version": 3
   },
   "file_extension": ".py",
   "mimetype": "text/x-python",
   "name": "python",
   "nbconvert_exporter": "python",
   "pygments_lexer": "ipython3",
   "version": "3.10.6"
  }
 },
 "nbformat": 4,
 "nbformat_minor": 5
}
